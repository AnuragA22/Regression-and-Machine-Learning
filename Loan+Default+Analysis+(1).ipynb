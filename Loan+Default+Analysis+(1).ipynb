{
 "cells": [
  {
   "cell_type": "markdown",
   "metadata": {},
   "source": [
    "# <b> Problem Statement </b>\n",
    "\n",
    "\n",
    "You work as a Business Analytics Consultant at the Bank of Corporate.The bank was witnessing slower than usual growth in its book of business for the most recent quarter in 2018. The bank provides financial services/products such as savings accounts, current accounts, debit cards, etc. to its customer. The data suggested that it was the home loan business of the bank that was hit by a major loss. Now, loans are the core business of banks. The main profit comes directly from the loan’s interest. The head of the Home Loan business asked the heads of the Sales, Operations, Risk and Analytics teams to investigate and identify the root causes for the slowing growth and solve the problem. A business like selling Home Loans can grow or shrink based on several factors like demand or supply side. Some of the reasons are:\n",
    "\n",
    "- <b> Demand Side: </b> Are interest rates high?\n",
    "- <b> Demand Side: </b> Are there any macro economic reasons, such as recession or low salary growth or inflation?\n",
    "- <b> Supply Side: </b> Are new and attractive housing projects not available in the markets being served?\n",
    "- <b> Supply Side: </b> Have real estate prices shot up making homes unaffordable, relatively speaking?\n",
    "- <b> Competitor Side: </b> Are we losing customers to our competition? Is our competition also facing lower growth?\n",
    "\n",
    "\n",
    "\n",
    "The team found out that the credit risk was in abnormal standards and the default loan rates were high. So what do you mean by default loans and credit risk?\n",
    "\n",
    "<b> Deafult loans : </b> <br>\n",
    "Default is the failure to repay a loan according to the terms agreed to in the promissory note. For most federal student loans, you will default if you have not made a payment in more than 270 days.\n",
    "\n",
    "<b> Credit risk : </b> <br>\n",
    "It is understood simply as the risk a bank takes while lending out money to borrowers. They might default and fail to repay the dues in time and these results in losses to the bank. \n",
    "\n",
    "## <b> So, what do banks do then? </b> <br>\n",
    "They need to manage their credit risks. The goal of credit risk management in banks is to maintain credit risk exposure within proper and acceptable parameters. It is the practice of mitigating losses by understanding the adequacy of a bank’s capital and loan loss reserves at any given time. For this, banks not only need to manage the entire portfolio but also individual credits.\n",
    "\n",
    "## <b> Measures taken </b> <br>\n",
    "So in 2019, the bank came up with a project to build a \"Credit risk estimate model\" for its home loan branch.The loan should be granted after an intensive process of verification and validation. The dataset (provided below) contains the information about all the customers who were contacted during this year and were provided loans based on various parameters. The \"Credit risk estimate model\" need to be cost-efficient so that the bank not only decreases their credit risk but also increase the total profit.\n",
    "\n",
    "\n",
    "## <b> Business objective </b> <br>\n",
    "\n",
    "Your aim is to build the \"Credit risk estimate model\" to classify new loans availed as \"Low Risk\", \"High Risk\" and \"Medium Risk\". This will help the bank to sanction loans to \"Low Risk\" customers, following up with the latest information/data for the \"Medium Risk\" customers and reject the loan approval for \"High Risk\" customers."
   ]
  },
  {
   "cell_type": "markdown",
   "metadata": {},
   "source": [
    "## <b> Read the dataset"
   ]
  },
  {
   "cell_type": "code",
   "execution_count": null,
   "metadata": {},
   "outputs": [],
   "source": [
    "#Import the libraries\n",
    "\n",
    "\n",
    "#Load the loan dataset\n",
    "\n",
    "#Details of the dataset\n"
   ]
  },
  {
   "cell_type": "markdown",
   "metadata": {},
   "source": [
    "The dataset has the following columns: </b>\n",
    "\n",
    "<b> id : </b>Transaction ID use to identify each transaction uniquely <br>\n",
    "<b> loan_amnt : </b> Loan amount that was requested by the customer <br>\n",
    "<b> funded_amnt : </b>Amount that was sanctioned by the bank <br>\n",
    "<b> int_rate : </b> Interest rate offered on the loan amount <br>\n",
    "<b> installment : </b>Amount of money paid during each installment <br>\n",
    "<b> emp_length :  </b> Work experience (employment length of the customer)  <br>\n",
    "<b> annual_inc : </b>What is the annual income of the customer<br>\n",
    "<b> loan_status : </b> Classified as whether it is \"High Risk\", \"Low Risk\" and \"Medium Risk\" <br>"
   ]
  },
  {
   "cell_type": "code",
   "execution_count": null,
   "metadata": {},
   "outputs": [],
   "source": [
    "#Check the details of the dataset\n"
   ]
  },
  {
   "cell_type": "code",
   "execution_count": null,
   "metadata": {},
   "outputs": [],
   "source": [
    "# Distribution of the target variable\n"
   ]
  },
  {
   "cell_type": "markdown",
   "metadata": {},
   "source": [
    "## <b> Data Cleaning </b>"
   ]
  },
  {
   "cell_type": "code",
   "execution_count": null,
   "metadata": {},
   "outputs": [],
   "source": [
    "#Check for null values"
   ]
  },
  {
   "cell_type": "code",
   "execution_count": null,
   "metadata": {},
   "outputs": [],
   "source": [
    "#Check for duplicate values"
   ]
  },
  {
   "cell_type": "markdown",
   "metadata": {},
   "source": [
    "## <b> Feature Creation </b>\n",
    "<b> funded_amnt: </b> Percentage of amount sanctioned compared to the total loan amount. Higher the value, it states that the bank is positive in lending the loan to the customer. <br>\n",
    "<b> incToloan_perc: </b> Percentage of annual income when compared to the loan amount. Higher the value it states that the customer is more likely to pay back without defaulting."
   ]
  },
  {
   "cell_type": "code",
   "execution_count": null,
   "metadata": {},
   "outputs": [],
   "source": [
    "# Adding new variables  \n",
    "# fund_perc variable represents the ratio of funded amount wrt loan amount\n",
    "\n",
    "\n",
    "#incToloan_perc variable represent the ratio of annula income wrt loan amount\n"
   ]
  },
  {
   "cell_type": "code",
   "execution_count": null,
   "metadata": {},
   "outputs": [],
   "source": [
    "# Understanding distribution of all the numerical variables in dataset\n"
   ]
  },
  {
   "cell_type": "code",
   "execution_count": null,
   "metadata": {},
   "outputs": [],
   "source": [
    "#column names\n"
   ]
  },
  {
   "cell_type": "markdown",
   "metadata": {},
   "source": [
    "## <b> Train-Test Split"
   ]
  },
  {
   "cell_type": "code",
   "execution_count": null,
   "metadata": {},
   "outputs": [],
   "source": [
    "# choosing all the numerical variables as independent variables (classifier can only take numerical input)\n",
    "# dropping two variable funded_amnt as we have created new variable transformation based on it \n",
    "\n",
    "\n",
    "#Dependent variable representing status of the loan\n",
    "\n",
    "\n",
    "#splitting the dataset in train and test datasets using a split ratio of 70:30\n",
    "\n",
    "\n",
    "# standardizing all the variables using standard scaler\n"
   ]
  },
  {
   "cell_type": "markdown",
   "metadata": {},
   "source": [
    "## <b> Model Building"
   ]
  },
  {
   "cell_type": "code",
   "execution_count": null,
   "metadata": {},
   "outputs": [],
   "source": [
    "from sklearn.linear_model import LogisticRegression \n",
    "from sklearn.multiclass import OneVsRestClassifier, OneVsOneClassifier\n",
    "from sklearn.svm import SVC\n",
    "from sklearn.metrics import accuracy_score, classification_report\n",
    "from sklearn.model_selection import train_test_split\n",
    "import warnings"
   ]
  },
  {
   "cell_type": "code",
   "execution_count": null,
   "metadata": {},
   "outputs": [],
   "source": [
    "\n",
    "# Building a classification model using one vs rest method\n",
    "\n",
    "# Fitting the model with training data"
   ]
  },
  {
   "cell_type": "markdown",
   "metadata": {},
   "source": [
    "## <b>Step 3 : </b>\n",
    "<b> Model Prediction </b>"
   ]
  },
  {
   "cell_type": "code",
   "execution_count": null,
   "metadata": {},
   "outputs": [],
   "source": [
    "# Making a prediction on the test set\n",
    "\n",
    "   \n",
    "# Evaluating the model\n"
   ]
  },
  {
   "cell_type": "markdown",
   "metadata": {},
   "source": [
    "<b> Accuracy : </b> Accuracy is the most intuitive performance measure and it is simply a ratio of correctly predicted observation to the total observations.The formula is given as: <br>\n",
    "<b> *Accuracy = True Positives + True Negatives/True Positives+False Positives+False Negatives+True Positives* </b> <br> <br>\n",
    "<b> Precision : </b> The quality of being exact and refers to how close two or more measurements are to each other, regardless of whether those measurements are accurate or not. The formula is : <br>\n",
    "<b> *Precision = True Positives / (True Positives + False Positives)* </b> <br> <br>\n",
    "<b> Recall : </b> It is calculated as the number of true positives divided by the total number of true positives and false negatives. The result is a value between 0.0 for no recall and 1.0 for full or perfect recall. The formula is : <br>\n",
    "<b> *Recall = True Positives / (True Positives + False Negatives)* </b> <br> <br>\n",
    "<b> F1 score : </b> F1 Score is the weighted average of Precision and Recall. Therefore, this score takes both false positives and false negatives into account.The highest possible value of an F-score is 1.0, indicating perfect precision and recall, and the lowest possible value is 0, if either the precision or the recall is zero. The formula is : <br>\n",
    "<b> *F1 score = 2\\*((precision\\*recall)/(precision+recall))* </b> <br> <br>"
   ]
  },
  {
   "cell_type": "markdown",
   "metadata": {},
   "source": [
    "## <b>Analysing the probabilties and classification values </b>"
   ]
  },
  {
   "cell_type": "code",
   "execution_count": null,
   "metadata": {
    "scrolled": false
   },
   "outputs": [],
   "source": [
    "# Adding followig variables to the test dataset\n",
    "\n",
    "#Scaled feature array\n",
    "\n",
    "#Actual target variable\n",
    "\n",
    "\n",
    "#OnevsRest target prediction\n",
    "\n",
    "\n",
    "#OnevsRest probability prediction\n",
    "\n",
    "#OnevsRest individual class prediction probabilities\n",
    "\n"
   ]
  },
  {
   "cell_type": "markdown",
   "metadata": {},
   "source": [
    "## <b>Display the coefficient and intercept values for each Logistic Regression model </b>"
   ]
  },
  {
   "cell_type": "code",
   "execution_count": null,
   "metadata": {},
   "outputs": [],
   "source": [
    "# Classes for which individual models are created\n",
    "\n",
    "#Coefficient matrix for all the models created\n",
    "\n",
    "\n",
    "#Intercept values for all the models created\n",
    "\n",
    "\n",
    "#Coefficient values for all the models created\n"
   ]
  },
  {
   "cell_type": "markdown",
   "metadata": {},
   "source": [
    "## <b>Analyse probability values for one test sample</b>"
   ]
  },
  {
   "cell_type": "code",
   "execution_count": null,
   "metadata": {},
   "outputs": [],
   "source": []
  },
  {
   "cell_type": "markdown",
   "metadata": {},
   "source": [
    "## <b>Understand the mathematics and calculations inside the Model </b>"
   ]
  },
  {
   "cell_type": "code",
   "execution_count": null,
   "metadata": {},
   "outputs": [],
   "source": [
    "#Below example demonstrate the calculation of prediction probability for a observation in the dataset\n",
    "#The demonstartion uses coefficient values of each model for the calculation\n",
    "\n",
    "# Choose the first observation\n",
    "\n",
    "# Class calculates the log of odds value for a given class\n",
    "\n",
    "# Calculates the probability values given the log of odds\n",
    "\n",
    "\n",
    "#Non-normalized probability of all the classes\n",
    "\n",
    "\n",
    "#Normalized probability of all the classes\n"
   ]
  },
  {
   "cell_type": "markdown",
   "metadata": {},
   "source": [
    "## <b> Building Logistic Regression Model and using it in One vs One Classifier </b>"
   ]
  },
  {
   "cell_type": "code",
   "execution_count": null,
   "metadata": {},
   "outputs": [],
   "source": [
    "#Classification using OnevsOne method\n",
    "\n",
    "\n",
    "# Fitting the model with training data\n",
    "\n",
    "   \n",
    "# Making a prediction on the test set\n"
   ]
  },
  {
   "cell_type": "markdown",
   "metadata": {},
   "source": [
    "## <b> Model Prediction </b>"
   ]
  },
  {
   "cell_type": "code",
   "execution_count": null,
   "metadata": {},
   "outputs": [],
   "source": [
    "# Evaluating the model\n"
   ]
  },
  {
   "cell_type": "markdown",
   "metadata": {},
   "source": [
    "## <b>Analysing the probabilties and classification values </b>"
   ]
  },
  {
   "cell_type": "code",
   "execution_count": null,
   "metadata": {},
   "outputs": [],
   "source": [
    "# Adding followig variables to the test dataset\n",
    "\n",
    "#OnevsOne target prediction\n"
   ]
  },
  {
   "cell_type": "markdown",
   "metadata": {},
   "source": [
    "## <b>Display the parameters and coefficients for each Logistic Regression model </b>"
   ]
  },
  {
   "cell_type": "code",
   "execution_count": null,
   "metadata": {},
   "outputs": [],
   "source": [
    "#OneVsOne.classes_"
   ]
  },
  {
   "cell_type": "code",
   "execution_count": null,
   "metadata": {},
   "outputs": [],
   "source": []
  },
  {
   "cell_type": "code",
   "execution_count": null,
   "metadata": {},
   "outputs": [],
   "source": []
  }
 ],
 "metadata": {
  "kernelspec": {
   "display_name": "Python 3",
   "language": "python",
   "name": "python3"
  },
  "language_info": {
   "codemirror_mode": {
    "name": "ipython",
    "version": 3
   },
   "file_extension": ".py",
   "mimetype": "text/x-python",
   "name": "python",
   "nbconvert_exporter": "python",
   "pygments_lexer": "ipython3",
   "version": "3.7.3"
  }
 },
 "nbformat": 4,
 "nbformat_minor": 4
}
